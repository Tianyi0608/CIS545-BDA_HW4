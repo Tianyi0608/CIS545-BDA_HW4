{
 "cells": [
  {
   "cell_type": "markdown",
   "metadata": {
    "deletable": false,
    "editable": false,
    "nbgrader": {
     "checksum": "40a91cd3ea3fc6af2357233282aee824",
     "grade": false,
     "grade_id": "step1-1",
     "locked": true,
     "schema_version": 1,
     "solution": false
    }
   },
   "source": [
    "# Homework 4: Images and Convolution\n",
    "\n",
    "## Step 1.1\n",
    "\n",
    "In this module, we explore the Convolution operation. Convolution is a very popular/important operation on matrices that has applications in Natural Language Processing and Computer Vision. Therefore, in this module, we write 2 functions that together perform basic 2D convolution operations given an image and a kernel.\n",
    "\n",
    "\n",
    "There are lot of online sources that explain 2D convolutions. Some of these are :\n",
    "http://www.songho.ca/dsp/convolution/convolution2d_example.html\n",
    "https://www.youtube.com/watch?v=YgtModJ-4cw\n",
    "\n",
    "\n",
    "The very first function we define is `convolve` that takes two 2D numpy matrices of the same size and performs the convolution operation. It takes as input two arguments, `img_subset` and `kernel`. `img_subset` is the specific region of the image that we apply the `kernel` to. Applying the `kernel` is equivalent to computing a weighted sum, `img_subset` values weighted by the corresponding `kernel` values"
   ]
  },
  {
   "cell_type": "code",
   "execution_count": 1,
   "metadata": {},
   "outputs": [
    {
     "name": "stdout",
     "output_type": "stream",
     "text": [
      "Requirement already satisfied: tqdm in /opt/conda/lib/python3.6/site-packages (4.31.1)\r\n"
     ]
    }
   ],
   "source": [
    "# Import your standard Python packages here\n",
    "\n",
    "import pandas as pd\n",
    "import numpy as np\n",
    "!pip install tqdm\n",
    "from tqdm import tqdm\n",
    "\n",
    "from sklearn.ensemble import RandomForestClassifier\n",
    "from sklearn.metrics import accuracy_score\n",
    "\n",
    "from numpy.random import randint\n",
    "\n",
    "import matplotlib.pyplot as plt\n",
    "%matplotlib inline"
   ]
  },
  {
   "cell_type": "code",
   "execution_count": 2,
   "metadata": {
    "deletable": false,
    "nbgrader": {
     "checksum": "d29332f1cad7235f8de3a1b2ee1cc815",
     "grade": false,
     "grade_id": "convolve",
     "locked": false,
     "schema_version": 1,
     "solution": true
    }
   },
   "outputs": [],
   "source": [
    "# Implement the convolve function. \n",
    "# Your function should be able to work with matrices of any size\n",
    "\n",
    "def convolve(mat1,mat2):\n",
    "    nrow = len(mat1)\n",
    "    ncol = len(mat1[0])\n",
    "    input_arr = mat1\n",
    "    kernel = mat2\n",
    "    output = 0\n",
    "    for i in range(0, nrow):\n",
    "        for j in range(0,ncol):\n",
    "            output = output + input_arr[i][j]*kernel[i][j]\n",
    "    return output"
   ]
  },
  {
   "cell_type": "code",
   "execution_count": 3,
   "metadata": {
    "deletable": false,
    "editable": false,
    "nbgrader": {
     "checksum": "4caa6502b9530b371a237463fe2135d9",
     "grade": false,
     "grade_id": "test-convolve-1",
     "locked": true,
     "schema_version": 1,
     "solution": false
    }
   },
   "outputs": [],
   "source": [
    "# CIS 545 Test Case\n",
    "\n",
    "a = np.array([[1,2,3],[4,5,6],[7,8,9]])\n",
    "b = np.array([[1,0,0],[1,0,0],[1,0,0]])\n",
    "c = convolve(a,b)\n",
    "\n",
    "if (c != 12.0):\n",
    "    raise ValueError('Incorrect value')"
   ]
  },
  {
   "cell_type": "code",
   "execution_count": 4,
   "metadata": {
    "deletable": false,
    "editable": false,
    "nbgrader": {
     "checksum": "a1a550faa5e2cdcf20b1b4cc5081e470",
     "grade": false,
     "grade_id": "pad-0",
     "locked": true,
     "schema_version": 1,
     "solution": false
    }
   },
   "outputs": [
    {
     "name": "stdout",
     "output_type": "stream",
     "text": [
      "CIS 545 Test Case Padding\n"
     ]
    }
   ],
   "source": [
    "print('CIS 545 Test Case Padding')"
   ]
  },
  {
   "cell_type": "code",
   "execution_count": 5,
   "metadata": {
    "deletable": false,
    "editable": false,
    "nbgrader": {
     "checksum": "9e0d0f030b6e66e49938cfe61ce73407",
     "grade": true,
     "grade_id": "test-convolve-2",
     "locked": true,
     "points": 2,
     "schema_version": 1,
     "solution": false
    }
   },
   "outputs": [],
   "source": [
    "# CIS 545 Test Case\n"
   ]
  },
  {
   "cell_type": "code",
   "execution_count": 6,
   "metadata": {
    "deletable": false,
    "editable": false,
    "nbgrader": {
     "checksum": "ca2ed249cb2875ea022b7e8242c4588c",
     "grade": false,
     "grade_id": "pad-1",
     "locked": true,
     "schema_version": 1,
     "solution": false
    }
   },
   "outputs": [
    {
     "name": "stdout",
     "output_type": "stream",
     "text": [
      "CIS 545 Test Case Padding\n"
     ]
    }
   ],
   "source": [
    "print('CIS 545 Test Case Padding')"
   ]
  },
  {
   "cell_type": "code",
   "execution_count": 7,
   "metadata": {
    "deletable": false,
    "editable": false,
    "nbgrader": {
     "checksum": "ba85f2da7a91da2a2ffdaba65cb6842f",
     "grade": true,
     "grade_id": "test-convolve-3",
     "locked": true,
     "points": 2,
     "schema_version": 1,
     "solution": false
    }
   },
   "outputs": [],
   "source": [
    "# CIS 545 Test Case\n"
   ]
  },
  {
   "cell_type": "code",
   "execution_count": 8,
   "metadata": {
    "deletable": false,
    "editable": false,
    "nbgrader": {
     "checksum": "19b831470ed9346ae96929ce72bba423",
     "grade": false,
     "grade_id": "pad-2",
     "locked": true,
     "schema_version": 1,
     "solution": false
    }
   },
   "outputs": [
    {
     "name": "stdout",
     "output_type": "stream",
     "text": [
      "CIS 545 Test Case Padding\n"
     ]
    }
   ],
   "source": [
    "print('CIS 545 Test Case Padding')"
   ]
  },
  {
   "cell_type": "markdown",
   "metadata": {
    "deletable": false,
    "editable": false,
    "nbgrader": {
     "checksum": "e1c1dcf28a3a5b48e94614ea2b78e4b7",
     "grade": false,
     "grade_id": "step1-2",
     "locked": true,
     "schema_version": 1,
     "solution": false
    }
   },
   "source": [
    "## Step 1.2\n",
    "\n",
    "Now that we have the `convolve` function defined, we implement the full convolution method, i.e a function that iteratively apply the kernel across the entire given image. This function will be called `convolveImage` and takes as input 2 arguments, `img` and `kernel`. The function takes the input image and convolves the given kernel across the entire image.\n",
    "\n",
    "For example, if the size of the kernels provided are 5x5, then essentially, you would be applying the `convolve` operation on every 5x5 sub-region of the input image. For a better understanding of how the `convolveImage` function should work, you can refer to https://towardsdatascience.com/intuitively-understanding-convolutions-for-deep-learning-1f6f42faee1. We want you to implement a standard convolution with a stride of 1 and no padding. \n",
    "\n",
    "NOTE : The output of `convolveImage` will not be of the same size as the input image. If this is not immediately clear, we suggest that you think carefully about how the `convolve` function will be applied across the entire image."
   ]
  },
  {
   "cell_type": "code",
   "execution_count": 9,
   "metadata": {
    "deletable": false,
    "nbgrader": {
     "checksum": "f13c799bd240a0f88143b42cd81d514c",
     "grade": false,
     "grade_id": "convolveImage",
     "locked": false,
     "schema_version": 1,
     "solution": true
    }
   },
   "outputs": [],
   "source": [
    "# Implement the convolveImage(img,kernel) function here. \n",
    "# Again your function should be generic enough to handle\n",
    "# arguments of any shape\n",
    "\n",
    "def convolveImage(img, kernel):\n",
    "    nrow = len(img)\n",
    "    ncol = len(img[0])\n",
    "    nrow_kernel = len(kernel)\n",
    "    ncol_kernel = len(kernel[0])\n",
    "    output = [[0 for j in range(0,ncol-ncol_kernel+1)] for i in range(0, nrow-nrow_kernel+1)]\n",
    "#     print(nrow,ncol,nrow_kernel,ncol_kernel)\n",
    "    for i in range(0, nrow-nrow_kernel+1):\n",
    "        for j in range(0, ncol-ncol_kernel+1):\n",
    "            output[i][j]=0\n",
    "            for m in range(0, nrow_kernel):\n",
    "                for n in range(0, ncol_kernel):\n",
    "                    output[i][j] = output[i][j]+img[i+m][j+n]*kernel[m][n]\n",
    "#     print(output)\n",
    "    return output\n",
    "    "
   ]
  },
  {
   "cell_type": "code",
   "execution_count": 10,
   "metadata": {
    "deletable": false,
    "editable": false,
    "nbgrader": {
     "checksum": "af640b60e48e83ba45101b23e1a1c957",
     "grade": false,
     "grade_id": "test-convolveImage-1",
     "locked": true,
     "schema_version": 1,
     "solution": false
    }
   },
   "outputs": [],
   "source": [
    "# CIS 545 Test Case\n",
    "\n",
    "a = np.array([[1,2,3],[1,2,3],[1,2,3]])\n",
    "b = np.array([[1,2],[1,2]])\n",
    "c = convolveImage(a,b)\n",
    "\n",
    "if (np.sum(c) != 52.0):\n",
    "    raise ValueError(\"Incorrect value\")"
   ]
  },
  {
   "cell_type": "code",
   "execution_count": 11,
   "metadata": {
    "deletable": false,
    "editable": false,
    "nbgrader": {
     "checksum": "45a941e424cd45f556eb8e9aa98f95e4",
     "grade": false,
     "grade_id": "pad-3",
     "locked": true,
     "schema_version": 1,
     "solution": false
    }
   },
   "outputs": [
    {
     "name": "stdout",
     "output_type": "stream",
     "text": [
      "CIS 545 Test Case Padding\n"
     ]
    }
   ],
   "source": [
    "print('CIS 545 Test Case Padding')"
   ]
  },
  {
   "cell_type": "code",
   "execution_count": 12,
   "metadata": {
    "deletable": false,
    "editable": false,
    "nbgrader": {
     "checksum": "cf8cfed8d4be88f625a6b5c30776f9cc",
     "grade": true,
     "grade_id": "test-convolveImage-2",
     "locked": true,
     "points": 2,
     "schema_version": 1,
     "solution": false
    }
   },
   "outputs": [],
   "source": [
    "# CIS 545 Test Case\n"
   ]
  },
  {
   "cell_type": "code",
   "execution_count": 13,
   "metadata": {
    "deletable": false,
    "editable": false,
    "nbgrader": {
     "checksum": "283e222271a13e48239891e70b9aa959",
     "grade": false,
     "grade_id": "pad-4",
     "locked": true,
     "schema_version": 1,
     "solution": false
    }
   },
   "outputs": [
    {
     "name": "stdout",
     "output_type": "stream",
     "text": [
      "CIS 545 Test Case Padding\n"
     ]
    }
   ],
   "source": [
    "print('CIS 545 Test Case Padding')"
   ]
  },
  {
   "cell_type": "code",
   "execution_count": 14,
   "metadata": {
    "deletable": false,
    "editable": false,
    "nbgrader": {
     "checksum": "17d51ced61cdc7e4447e5a5128d4baae",
     "grade": true,
     "grade_id": "test-convolveImage-3",
     "locked": true,
     "points": 2,
     "schema_version": 1,
     "solution": false
    }
   },
   "outputs": [],
   "source": [
    "# CIS 545 Test Case\n"
   ]
  },
  {
   "cell_type": "code",
   "execution_count": 15,
   "metadata": {
    "deletable": false,
    "editable": false,
    "nbgrader": {
     "checksum": "ed4d610592f5e2324a11f049b7031f53",
     "grade": false,
     "grade_id": "pad-5",
     "locked": true,
     "schema_version": 1,
     "solution": false
    }
   },
   "outputs": [
    {
     "name": "stdout",
     "output_type": "stream",
     "text": [
      "CIS 545 Test Case Padding\n"
     ]
    }
   ],
   "source": [
    "print('CIS 545 Test Case Padding')"
   ]
  },
  {
   "cell_type": "code",
   "execution_count": 16,
   "metadata": {
    "deletable": false,
    "editable": false,
    "nbgrader": {
     "checksum": "ece800fb21e95e97cacdea48236dde31",
     "grade": true,
     "grade_id": "test-convolveImage-4",
     "locked": true,
     "points": 2,
     "schema_version": 1,
     "solution": false
    }
   },
   "outputs": [],
   "source": [
    "# CIS 545 Test Case\n"
   ]
  },
  {
   "cell_type": "code",
   "execution_count": 17,
   "metadata": {
    "deletable": false,
    "editable": false,
    "nbgrader": {
     "checksum": "cdbc989d0f4f1134195febc343e2c618",
     "grade": false,
     "grade_id": "pad-6",
     "locked": true,
     "schema_version": 1,
     "solution": false
    }
   },
   "outputs": [
    {
     "name": "stdout",
     "output_type": "stream",
     "text": [
      "CIS 545 Test Case Padding\n"
     ]
    }
   ],
   "source": [
    "print('CIS 545 Test Case Padding')"
   ]
  },
  {
   "cell_type": "markdown",
   "metadata": {
    "deletable": false,
    "editable": false,
    "nbgrader": {
     "checksum": "31539ab588393f6b377e0b0f6321480d",
     "grade": false,
     "grade_id": "step2-1",
     "locked": true,
     "schema_version": 1,
     "solution": false
    }
   },
   "source": [
    "## Step 2.1: Data visualization\n",
    "\n",
    "We now load our dataset for this assignment which is in a numpy format. The training data is called `trainData.npy` and the corresponding label file is called `trainTruth.npy`. Similarly, for testing, we have the `testData.npy` and `testTruth.npy` datasets\n",
    "\n",
    "You should be able to read these datasets in using the `np.load` method.\n",
    "\n",
    "Load these datasets into variables : `trainx, trainy, testx, testy`"
   ]
  },
  {
   "cell_type": "code",
   "execution_count": 18,
   "metadata": {},
   "outputs": [],
   "source": [
    "# You can use this cell to install the packages \n",
    "# if you don't have them already"
   ]
  },
  {
   "cell_type": "code",
   "execution_count": 19,
   "metadata": {
    "deletable": false,
    "editable": false,
    "nbgrader": {
     "checksum": "7be947aa337863637cd2c26baca68714",
     "grade": false,
     "grade_id": "import-bytesio",
     "locked": true,
     "schema_version": 1,
     "solution": false
    }
   },
   "outputs": [],
   "source": [
    "# Import these for grading - you don't have to use BytesIO/requests\n",
    "\n",
    "from io import BytesIO\n",
    "import numpy as np\n",
    "import requests"
   ]
  },
  {
   "cell_type": "code",
   "execution_count": 20,
   "metadata": {
    "deletable": false,
    "nbgrader": {
     "checksum": "057a3dd7f995b940bc05a77294165b4a",
     "grade": false,
     "grade_id": "load-data",
     "locked": false,
     "schema_version": 1,
     "solution": true
    }
   },
   "outputs": [],
   "source": [
    "# Load the datasets into trainx, trainy, testx, testy\n",
    "\n",
    "trainx = np.load('trainData.npy')\n",
    "trainy = np.load('trainTruth.npy')\n",
    "testx = np.load('testData.npy')\n",
    "testy = np.load('testTruth.npy')"
   ]
  },
  {
   "cell_type": "markdown",
   "metadata": {
    "deletable": false,
    "editable": false,
    "nbgrader": {
     "checksum": "75c28cc7a1386d314def2bd95845c426",
     "grade": false,
     "grade_id": "grading-note",
     "locked": true,
     "schema_version": 1,
     "solution": false
    }
   },
   "source": [
    "The following cell is only for grading purposes - please do not edit it or import data after it, as it may lead to your assignment failing in autograding and having to be regraded."
   ]
  },
  {
   "cell_type": "code",
   "execution_count": 21,
   "metadata": {
    "deletable": false,
    "editable": false,
    "nbgrader": {
     "checksum": "7ed75c3abf8f594e8bd1861ef3c6a983",
     "grade": false,
     "grade_id": "s3-traintest",
     "locked": true,
     "schema_version": 1,
     "solution": false
    }
   },
   "outputs": [],
   "source": [
    "# Loading datasets for grading\n",
    "# You won't be able to use this until grading\n",
    "# Editing this cell may mean your code won't runr\n",
    "\n",
    "try:\n",
    "    # trainx\n",
    "    F = requests.get('https://s3.amazonaws.com/cis545-hw4data/trainData.npy', stream = True)\n",
    "    trainx = np.load(BytesIO(F.raw.read()))\n",
    "\n",
    "    # trainy\n",
    "    F = requests.get('https://s3.amazonaws.com/cis545-hw4data/trainTruth.npy', stream = True)\n",
    "    trainy = np.load(BytesIO(F.raw.read()))\n",
    "\n",
    "    # testx\n",
    "    F = requests.get('https://s3.amazonaws.com/cis545-hw4data/testData.npy', stream = True)\n",
    "    testx = np.load(BytesIO(F.raw.read()))\n",
    "\n",
    "    # testy\n",
    "    F = requests.get('https://s3.amazonaws.com/cis545-hw4data/testTruth.npy', stream = True)\n",
    "    testy = np.load(BytesIO(F.raw.read()))\n",
    "except:\n",
    "    print(\"AWS S3 not initialized for grading\")"
   ]
  },
  {
   "cell_type": "code",
   "execution_count": 22,
   "metadata": {
    "deletable": false,
    "editable": false,
    "nbgrader": {
     "checksum": "9128ce6b275bb58c07ccfe7fcf276579",
     "grade": false,
     "grade_id": "test-trainx",
     "locked": true,
     "schema_version": 1,
     "solution": false
    }
   },
   "outputs": [],
   "source": [
    "# CIS 545 Test Case\n",
    "\n",
    "if trainx.shape != (300,50,50):\n",
    "    raise ValueError('Dataset not loaded properly')"
   ]
  },
  {
   "cell_type": "code",
   "execution_count": 23,
   "metadata": {
    "deletable": false,
    "editable": false,
    "nbgrader": {
     "checksum": "c24c9a3bfebc519ad6b4165561e35164",
     "grade": false,
     "grade_id": "pad-7",
     "locked": true,
     "schema_version": 1,
     "solution": false
    }
   },
   "outputs": [
    {
     "name": "stdout",
     "output_type": "stream",
     "text": [
      "CIS 545 Test Case Padding\n"
     ]
    }
   ],
   "source": [
    "print('CIS 545 Test Case Padding')"
   ]
  },
  {
   "cell_type": "markdown",
   "metadata": {
    "deletable": false,
    "editable": false,
    "nbgrader": {
     "checksum": "1b00f5eedc38cc8e2cc10b874a5cd6d6",
     "grade": false,
     "grade_id": "plt-imshow",
     "locked": true,
     "schema_version": 1,
     "solution": false
    }
   },
   "source": [
    "The data files contain 3-D matrices with each sample/instance represented by a 2-D matrix. In these matrices, the first index represents the sample number while the last 2 index represent the size of each instance. Therefore, if the shape of trainx is (a,b,c), then you have `a` number of samples in your data with each sample being a 2-D matrix of size `(b,c)`.  \n",
    "\n",
    "Lets visualize the data to see what exactly it is that we are working with. Using numpy indexing, take out the 6th sample in the training data\n",
    "\n",
    "NOTE. Use the `plt.imshow()` function to visualize your sample. Also set the `cmap` argument to 'gray' for better visualization."
   ]
  },
  {
   "cell_type": "code",
   "execution_count": 24,
   "metadata": {
    "deletable": false,
    "nbgrader": {
     "checksum": "b8631ec9e23dbc715fa485efc7d623cb",
     "grade": false,
     "grade_id": "img1",
     "locked": false,
     "schema_version": 1,
     "solution": true
    }
   },
   "outputs": [],
   "source": [
    "# Select the 6th sample from the training dataset (trainx) \n",
    "# and set it to the variable 'img1'\n",
    "img1 = trainx[5]"
   ]
  },
  {
   "cell_type": "code",
   "execution_count": 25,
   "metadata": {},
   "outputs": [
    {
     "name": "stdout",
     "output_type": "stream",
     "text": [
      "[[0. 0. 0. ... 0. 0. 0.]\n",
      " [0. 0. 0. ... 0. 0. 0.]\n",
      " [0. 0. 0. ... 0. 0. 0.]\n",
      " ...\n",
      " [0. 0. 0. ... 0. 0. 0.]\n",
      " [0. 0. 0. ... 0. 0. 0.]\n",
      " [0. 0. 0. ... 0. 0. 0.]]\n"
     ]
    }
   ],
   "source": [
    "print(img1)"
   ]
  },
  {
   "cell_type": "code",
   "execution_count": 26,
   "metadata": {
    "deletable": false,
    "editable": false,
    "nbgrader": {
     "checksum": "d8768d30e75e96b2a2ab131f1eae2d61",
     "grade": false,
     "grade_id": "show-img1",
     "locked": true,
     "schema_version": 1,
     "solution": false
    }
   },
   "outputs": [
    {
     "data": {
      "text/plain": [
       "<matplotlib.image.AxesImage at 0x7fe17a0e5f28>"
      ]
     },
     "execution_count": 26,
     "metadata": {},
     "output_type": "execute_result"
    },
    {
     "data": {
      "image/png": "[encoded data removed]",
      "text/plain": [
       "<Figure size 432x288 with 1 Axes>"
      ]
     },
     "metadata": {
      "needs_background": "light"
     },
     "output_type": "display_data"
    }
   ],
   "source": [
    "# View the plot\n",
    "plt.imshow(img1, cmap = 'gray')"
   ]
  },
  {
   "cell_type": "code",
   "execution_count": 27,
   "metadata": {
    "deletable": false,
    "editable": false,
    "nbgrader": {
     "checksum": "a01277175c396180c8041dfc535f206f",
     "grade": false,
     "grade_id": "test-img1-1",
     "locked": true,
     "schema_version": 1,
     "solution": false
    }
   },
   "outputs": [],
   "source": [
    "# CIS 545 Test Case\n",
    "\n",
    "if img1.shape != (50,50):\n",
    "    raise ValueError(\"Incorrect indexing\")"
   ]
  },
  {
   "cell_type": "code",
   "execution_count": 28,
   "metadata": {
    "deletable": false,
    "editable": false,
    "nbgrader": {
     "checksum": "68760f6c2dcf973f71f1e951bd95c76f",
     "grade": false,
     "grade_id": "pad-8",
     "locked": true,
     "schema_version": 1,
     "solution": false
    }
   },
   "outputs": [
    {
     "name": "stdout",
     "output_type": "stream",
     "text": [
      "CIS 545 Test Case Padding\n"
     ]
    }
   ],
   "source": [
    "print('CIS 545 Test Case Padding')"
   ]
  },
  {
   "cell_type": "code",
   "execution_count": 29,
   "metadata": {
    "deletable": false,
    "editable": false,
    "nbgrader": {
     "checksum": "9398758cc898d7907adcd3c79b52fc75",
     "grade": true,
     "grade_id": "test-img1-2",
     "locked": true,
     "points": 2,
     "schema_version": 1,
     "solution": false
    }
   },
   "outputs": [],
   "source": [
    "# CIS 545 Test Case\n"
   ]
  },
  {
   "cell_type": "code",
   "execution_count": 30,
   "metadata": {
    "deletable": false,
    "editable": false,
    "nbgrader": {
     "checksum": "8660c61ecc1e040ae594e5678001d444",
     "grade": false,
     "grade_id": "pad-9",
     "locked": true,
     "schema_version": 1,
     "solution": false
    }
   },
   "outputs": [
    {
     "name": "stdout",
     "output_type": "stream",
     "text": [
      "CIS 545 Test Case Padding\n"
     ]
    }
   ],
   "source": [
    "print('CIS 545 Test Case Padding')"
   ]
  },
  {
   "cell_type": "markdown",
   "metadata": {
    "deletable": false,
    "editable": false,
    "nbgrader": {
     "checksum": "9b50405cfbf9e9b61eb28bd03ad66815",
     "grade": false,
     "grade_id": "plot-11th",
     "locked": true,
     "schema_version": 1,
     "solution": false
    }
   },
   "source": [
    "Now plot the 12th element in the training dataset. Be careful of indexing..."
   ]
  },
  {
   "cell_type": "code",
   "execution_count": 31,
   "metadata": {
    "deletable": false,
    "nbgrader": {
     "checksum": "d828874c04df8332958b4c4ceab4eb76",
     "grade": false,
     "grade_id": "img2",
     "locked": false,
     "schema_version": 1,
     "solution": true
    }
   },
   "outputs": [],
   "source": [
    "# Select the 12th sample from the training dataset(trainx) and set it to the variable 'img2'\n",
    "####不确定是不是改写成以下样子\n",
    "img2 = np.array(trainx[11])\n",
    "# img2 = img2.reshape((50*12,50))"
   ]
  },
  {
   "cell_type": "raw",
   "metadata": {},
   "source": [
    "plt.imshow?"
   ]
  },
  {
   "cell_type": "code",
   "execution_count": 32,
   "metadata": {
    "deletable": false,
    "editable": false,
    "nbgrader": {
     "checksum": "d7589761133d63fb06c939d43022a425",
     "grade": false,
     "grade_id": "show-img2",
     "locked": true,
     "schema_version": 1,
     "solution": false
    }
   },
   "outputs": [
    {
     "data": {
      "text/plain": [
       "<matplotlib.image.AxesImage at 0x7fe17a07bd30>"
      ]
     },
     "execution_count": 32,
     "metadata": {},
     "output_type": "execute_result"
    },
    {
     "data": {
      "image/png": "[encoded data removed]",
      "text/plain": [
       "<Figure size 432x288 with 1 Axes>"
      ]
     },
     "metadata": {
      "needs_background": "light"
     },
     "output_type": "display_data"
    }
   ],
   "source": [
    "# View the plot\n",
    "plt.imshow(img2, cmap = 'gray')"
   ]
  },
  {
   "cell_type": "code",
   "execution_count": 33,
   "metadata": {
    "deletable": false,
    "editable": false,
    "nbgrader": {
     "checksum": "83bf7378393e4308c0c2a3eec2bd58a7",
     "grade": true,
     "grade_id": "test-img2-1",
     "locked": true,
     "points": 2,
     "schema_version": 1,
     "solution": false
    }
   },
   "outputs": [],
   "source": [
    "# CIS 545 Test Case\n"
   ]
  },
  {
   "cell_type": "code",
   "execution_count": 34,
   "metadata": {
    "deletable": false,
    "editable": false,
    "nbgrader": {
     "checksum": "de1ab0ec1741c7909baba5878b20779b",
     "grade": false,
     "grade_id": "pad-10",
     "locked": true,
     "schema_version": 1,
     "solution": false
    }
   },
   "outputs": [
    {
     "name": "stdout",
     "output_type": "stream",
     "text": [
      "CIS 545 Test Case Padding\n"
     ]
    }
   ],
   "source": [
    "print('CIS 545 Test Case Padding')"
   ]
  },
  {
   "cell_type": "markdown",
   "metadata": {
    "deletable": false,
    "editable": false,
    "nbgrader": {
     "checksum": "3803b1a1c35ba9e1d97a74d1872ea659",
     "grade": false,
     "grade_id": "circTruthValue",
     "locked": true,
     "schema_version": 1,
     "solution": false
    }
   },
   "source": [
    "Now check for the corresponding values of the 5th and 11th element in `trainy`. Assuming 1 means true and 0 means false, what could these numbers represent? Hint: This dataset contains images with either rectangles or circles embedded in them. \n",
    "\n",
    "From your observations, set the variable `circleTruthValue` to the value that a circle image should have in `trainy`. In other words, `circleTruthValue` should be assigned a new value that corresponds to circle items."
   ]
  },
  {
   "cell_type": "raw",
   "metadata": {},
   "source": [
    "trainy[:12]"
   ]
  },
  {
   "cell_type": "code",
   "execution_count": 35,
   "metadata": {
    "deletable": false,
    "nbgrader": {
     "checksum": "5c509f4d8d5fe9fd57fe18b18ef1ccc2",
     "grade": false,
     "grade_id": "circleTruthValue",
     "locked": false,
     "schema_version": 1,
     "solution": true
    }
   },
   "outputs": [],
   "source": [
    "# Look at the corresponding images and their truth labels and figure what is the truth label that is used to \n",
    "# denote circles in the dataset. Set this value to circleTruthValue\n",
    "\n",
    "trainy[4]\n",
    "trainy[10]\n",
    "circleTruthValue = 0 # change the -1 to the correct number\n"
   ]
  },
  {
   "cell_type": "code",
   "execution_count": 36,
   "metadata": {
    "deletable": false,
    "editable": false,
    "nbgrader": {
     "checksum": "2a0330f6d901d300c48740fc8b8f49fb",
     "grade": true,
     "grade_id": "test-circleTruthValue-1",
     "locked": true,
     "points": 2,
     "schema_version": 1,
     "solution": false
    }
   },
   "outputs": [],
   "source": [
    "# CIS 545 Test Case\n"
   ]
  },
  {
   "cell_type": "code",
   "execution_count": 37,
   "metadata": {
    "deletable": false,
    "editable": false,
    "nbgrader": {
     "checksum": "133c8e1d8913fcb14e824edd1e3bb143",
     "grade": false,
     "grade_id": "pad-11",
     "locked": true,
     "schema_version": 1,
     "solution": false
    }
   },
   "outputs": [
    {
     "name": "stdout",
     "output_type": "stream",
     "text": [
      "CIS 545 Test Case Padding\n"
     ]
    }
   ],
   "source": [
    "print('CIS 545 Test Case Padding')"
   ]
  },
  {
   "cell_type": "markdown",
   "metadata": {
    "deletable": false,
    "editable": false,
    "nbgrader": {
     "checksum": "347990468813daf1713361d202e6b1ba",
     "grade": false,
     "grade_id": "step3-1",
     "locked": true,
     "schema_version": 1,
     "solution": false
    }
   },
   "source": [
    "## Deriving Convolution features\n",
    "\n",
    "In this module, we derive features for each of the instances in our training data (as well as testing) by applying the convolution operator over each of the instances. These features will then be used to create a Machine Learning model that predicts whether the image contains a rectangle or a circle.\n",
    "\n",
    "### Step 3.1\n",
    "\n",
    "The first step in this process is to load the kernels into a variable called `kernels`. Kernels have been provided in a numpy file called `kernels.npy`. This again would be a 3D matrix with the first index representing the kernel number and the next 2 representing the size of the individual kernel. Therefore, if the shape of `kernels` is (a,b,c), then you have `a` kernels in your data with each kernel being a 2-D matrix of size `(b,c)`.  \n",
    "\n",
    "\n",
    "\n"
   ]
  },
  {
   "cell_type": "code",
   "execution_count": 38,
   "metadata": {
    "deletable": false,
    "nbgrader": {
     "checksum": "483be2e88417b2a829f72e7d84b48db0",
     "grade": false,
     "grade_id": "load-kernels",
     "locked": false,
     "schema_version": 1,
     "solution": true
    }
   },
   "outputs": [],
   "source": [
    "# Load the kernels.py file and name the variable 'kernels'\n",
    "kernels = np.load('kernels.npy')"
   ]
  },
  {
   "cell_type": "raw",
   "metadata": {},
   "source": [
    "kernels"
   ]
  },
  {
   "cell_type": "code",
   "execution_count": 39,
   "metadata": {
    "deletable": false,
    "editable": false,
    "nbgrader": {
     "checksum": "ae3d2fea1bf14d2d472cfb14fca078ea",
     "grade": false,
     "grade_id": "pad-12",
     "locked": true,
     "schema_version": 1,
     "solution": false
    }
   },
   "outputs": [
    {
     "name": "stdout",
     "output_type": "stream",
     "text": [
      "CIS 545 Test Case Padding\n"
     ]
    }
   ],
   "source": [
    "print('CIS 545 Test Case Padding')"
   ]
  },
  {
   "cell_type": "code",
   "execution_count": 40,
   "metadata": {
    "deletable": false,
    "editable": false,
    "nbgrader": {
     "checksum": "67bdbbc0c4344067cb158d451b6368e3",
     "grade": false,
     "grade_id": "s3-kernels",
     "locked": true,
     "schema_version": 1,
     "solution": false
    }
   },
   "outputs": [],
   "source": [
    "# Loading for grading similar to above\n",
    "\n",
    "try:\n",
    "    # kernels\n",
    "    F = requests.get('https://s3.amazonaws.com/cis545-hw4data/kernels.npy', stream = True)\n",
    "    kernels = np.load(BytesIO(F.raw.read()))\n",
    "except:\n",
    "    print(\"AWS S3 not initialized for grading\")"
   ]
  },
  {
   "cell_type": "code",
   "execution_count": 41,
   "metadata": {
    "deletable": false,
    "editable": false,
    "nbgrader": {
     "checksum": "8ebd08872af5918c7fa5be078c237501",
     "grade": false,
     "grade_id": "test-kernels",
     "locked": true,
     "schema_version": 1,
     "solution": false
    }
   },
   "outputs": [],
   "source": [
    "# CIS 545 Test Case\n",
    "\n",
    "if kernels.shape != (8,5,5):\n",
    "    raise ValueError(\"Dataset not loaded properly\")"
   ]
  },
  {
   "cell_type": "code",
   "execution_count": 42,
   "metadata": {
    "deletable": false,
    "editable": false,
    "nbgrader": {
     "checksum": "d09dfeca305f9de2b9c3953917f86158",
     "grade": false,
     "grade_id": "pad-13",
     "locked": true,
     "schema_version": 1,
     "solution": false
    }
   },
   "outputs": [
    {
     "name": "stdout",
     "output_type": "stream",
     "text": [
      "CIS 545 Test Case Padding\n"
     ]
    }
   ],
   "source": [
    "print('CIS 545 Test Case Padding')"
   ]
  },
  {
   "cell_type": "markdown",
   "metadata": {
    "deletable": false,
    "editable": false,
    "nbgrader": {
     "checksum": "e7b5f96fa2b97529b47e6cdc5a890f5a",
     "grade": false,
     "grade_id": "step3-2",
     "locked": true,
     "schema_version": 1,
     "solution": false
    }
   },
   "source": [
    "### Step 3.2 Visualizing Kernels\n",
    "\n",
    "Similar to step 2.1, visualize the kernels to understand what exactly the kernels look like. This would help you build up an intuition as to what these kernels try to acheive.\n",
    "\n",
    "Plot the 5th kernel from the `kernels` variable."
   ]
  },
  {
   "cell_type": "raw",
   "metadata": {},
   "source": [
    "kernels"
   ]
  },
  {
   "cell_type": "code",
   "execution_count": 43,
   "metadata": {
    "deletable": false,
    "nbgrader": {
     "checksum": "b18bde402f7c355b30b3fe34f83a89d2",
     "grade": false,
     "grade_id": "img3",
     "locked": false,
     "schema_version": 1,
     "solution": true
    }
   },
   "outputs": [],
   "source": [
    "# Set the 5th kernel to the 'img3' variable\n",
    "img3 = np.array(kernels[4])"
   ]
  },
  {
   "cell_type": "code",
   "execution_count": 44,
   "metadata": {
    "deletable": false,
    "editable": false,
    "nbgrader": {
     "checksum": "5e165b3b21bdde9b8f55e545fc90765c",
     "grade": false,
     "grade_id": "show-img3",
     "locked": true,
     "schema_version": 1,
     "solution": false
    }
   },
   "outputs": [
    {
     "data": {
      "text/plain": [
       "<matplotlib.image.AxesImage at 0x7fe179fe4ba8>"
      ]
     },
     "execution_count": 44,
     "metadata": {},
     "output_type": "execute_result"
    },
    {
     "data": {
      "image/png": "[encoded data removed]",
      "text/plain": [
       "<Figure size 432x288 with 1 Axes>"
      ]
     },
     "metadata": {
      "needs_background": "light"
     },
     "output_type": "display_data"
    }
   ],
   "source": [
    "# View the plot\n",
    "plt.imshow(img3, cmap = 'gray')"
   ]
  },
  {
   "cell_type": "markdown",
   "metadata": {
    "deletable": false,
    "editable": false,
    "nbgrader": {
     "checksum": "f403276ff15a2aa6cc29df1720681dc6",
     "grade": false,
     "grade_id": "convolutions",
     "locked": true,
     "schema_version": 1,
     "solution": false
    }
   },
   "source": [
    "### Visualizing the Effect of Convolution with kernels\n",
    "Now to visualize the effect of convolving an image with a kernel, you can run the next cell to see the input image, the kernel, and the output of the convolution of the kernel on the given image."
   ]
  },
  {
   "cell_type": "code",
   "execution_count": 45,
   "metadata": {
    "deletable": false,
    "nbgrader": {
     "checksum": "28715d4a0491f6457d9ccb3cec6b7b85",
     "grade": false,
     "grade_id": "img4",
     "locked": false,
     "schema_version": 1,
     "solution": true
    }
   },
   "outputs": [],
   "source": [
    "# Set 'kernel' to be the 4th element in the kernels variable and 'img4' as the 116th element from trainx\n",
    "\n",
    "kernel = kernels[3]\n",
    "img4 = trainx[115]"
   ]
  },
  {
   "cell_type": "code",
   "execution_count": 46,
   "metadata": {},
   "outputs": [
    {
     "data": {
      "text/plain": [
       "<matplotlib.image.AxesImage at 0x7fe179fbe5c0>"
      ]
     },
     "execution_count": 46,
     "metadata": {},
     "output_type": "execute_result"
    },
    {
     "data": {
      "image/png": "[encoded data removed]",
      "text/plain": [
       "<Figure size 432x288 with 1 Axes>"
      ]
     },
     "metadata": {
      "needs_background": "light"
     },
     "output_type": "display_data"
    }
   ],
   "source": [
    "plt.imshow(kernel,cmap='gray')"
   ]
  },
  {
   "cell_type": "code",
   "execution_count": 47,
   "metadata": {},
   "outputs": [
    {
     "data": {
      "text/plain": [
       "<matplotlib.image.AxesImage at 0x7fe179f90898>"
      ]
     },
     "execution_count": 47,
     "metadata": {},
     "output_type": "execute_result"
    },
    {
     "data": {
      "image/png": "[encoded data removed]",
      "text/plain": [
       "<Figure size 432x288 with 1 Axes>"
      ]
     },
     "metadata": {
      "needs_background": "light"
     },
     "output_type": "display_data"
    }
   ],
   "source": [
    "plt.imshow(img4,cmap='gray')"
   ]
  },
  {
   "cell_type": "code",
   "execution_count": 48,
   "metadata": {
    "deletable": false,
    "editable": false,
    "nbgrader": {
     "checksum": "8cc19653f1c571a64148c1f16892766d",
     "grade": false,
     "grade_id": "convolvekernel",
     "locked": true,
     "schema_version": 1,
     "solution": false
    }
   },
   "outputs": [],
   "source": [
    "# If this cell doesn't run, likely there's an issue with your functions or setup!\n",
    "output = convolveImage(img4, kernel)"
   ]
  },
  {
   "cell_type": "code",
   "execution_count": 49,
   "metadata": {
    "deletable": false,
    "editable": false,
    "nbgrader": {
     "checksum": "9d26a2c1130c56eae9545ca39c52b6a0",
     "grade": false,
     "grade_id": "show-img4",
     "locked": true,
     "schema_version": 1,
     "solution": false
    }
   },
   "outputs": [
    {
     "data": {
      "text/plain": [
       "<matplotlib.image.AxesImage at 0x7fe179e59208>"
      ]
     },
     "execution_count": 49,
     "metadata": {},
     "output_type": "execute_result"
    },
    {
     "data": {
      "image/png": "[encoded data removed]",
      "text/plain": [
       "<Figure size 1080x720 with 3 Axes>"
      ]
     },
     "metadata": {
      "needs_background": "light"
     },
     "output_type": "display_data"
    }
   ],
   "source": [
    "# You should be able to see three plots here\n",
    "\n",
    "plt.figure(figsize = (15,10))\n",
    "plt.subplot(131)\n",
    "plt.imshow(img4, cmap = 'gray')\n",
    "\n",
    "plt.subplot(132)\n",
    "plt.imshow(kernel, cmap = 'gray')\n",
    "\n",
    "plt.subplot(133)\n",
    "plt.imshow(output, cmap = 'gray')"
   ]
  },
  {
   "cell_type": "markdown",
   "metadata": {
    "deletable": false,
    "editable": false,
    "nbgrader": {
     "checksum": "854dee2ebbf68394a6073057f37490f2",
     "grade": false,
     "grade_id": "step3-3",
     "locked": true,
     "schema_version": 1,
     "solution": false
    }
   },
   "source": [
    "### Step 3.3: createFeatureVector\n",
    "\n",
    "In this module, we implement a function called createFeatureVector that takes as input a single image and a set of kernels. \n",
    "\n",
    "Its task can be summarized as :\n",
    " * Initialize a empty list to store all features for the image\n",
    " * For every kernel:\n",
    "      - apply the `convolveImage` function over the image\n",
    "      - compute the sum over the output matrix \n",
    "      - add the computed sum to the feature list\n",
    " * return the list as a numpy array\n",
    "      \n",
    "      \n",
    "As a sanity check, the output of this function should be a numpy array with a length equal to the number of kernels that are passed on to the function. "
   ]
  },
  {
   "cell_type": "code",
   "execution_count": 50,
   "metadata": {
    "deletable": false,
    "nbgrader": {
     "checksum": "9b71bd8bbdd066fb3ecc04fe4b1d24d2",
     "grade": false,
     "grade_id": "featureVec",
     "locked": false,
     "schema_version": 1,
     "solution": true
    }
   },
   "outputs": [],
   "source": [
    "# Implement the createFeatureVector(img, kernels) function here. \n",
    "\n",
    "def createFeatureVector(img, kernels):\n",
    "    img_feature = []\n",
    "    for kernel in kernels:\n",
    "        #print(kernel)\n",
    "        result = convolveImage(img, kernel)\n",
    "        result_sum = sum(sum(i) for i in result)\n",
    "#         print(result_sum)\n",
    "        img_feature.append(result_sum)\n",
    "    return np.array(img_feature)"
   ]
  },
  {
   "cell_type": "code",
   "execution_count": 51,
   "metadata": {},
   "outputs": [
    {
     "data": {
      "text/plain": [
       "array([  45.,  -27.,   45.,  -45.,  -63., -117.,  -63.,  -63.])"
      ]
     },
     "execution_count": 51,
     "metadata": {},
     "output_type": "execute_result"
    }
   ],
   "source": [
    "createFeatureVector(np.ones((7,7)), kernels)"
   ]
  },
  {
   "cell_type": "code",
   "execution_count": 52,
   "metadata": {
    "deletable": false,
    "editable": false,
    "nbgrader": {
     "checksum": "cdea3b42a7e7bcc4684b43cf37f2347d",
     "grade": false,
     "grade_id": "test-featureVec-1",
     "locked": true,
     "schema_version": 1,
     "solution": false
    }
   },
   "outputs": [],
   "source": [
    "# CIS 545 Test Case\n",
    "\n",
    "a = createFeatureVector(np.ones((7,7)),kernels)\n",
    "\n",
    "if (a.shape != (8,)):\n",
    "    raise ValueError(\"Incorrect dimensions for createFeatureVector\")\n",
    "    \n",
    "if (a[1] != -27.0):\n",
    "    raise ValueError(\"Incorrect calculation for createFeatureVector\")"
   ]
  },
  {
   "cell_type": "code",
   "execution_count": 53,
   "metadata": {
    "deletable": false,
    "editable": false,
    "nbgrader": {
     "checksum": "89640112d79ab7a7162c41894d904ce6",
     "grade": false,
     "grade_id": "pad-14",
     "locked": true,
     "schema_version": 1,
     "solution": false
    }
   },
   "outputs": [
    {
     "name": "stdout",
     "output_type": "stream",
     "text": [
      "CIS 545 Test Case Padding\n"
     ]
    }
   ],
   "source": [
    "print('CIS 545 Test Case Padding')"
   ]
  },
  {
   "cell_type": "code",
   "execution_count": 54,
   "metadata": {
    "deletable": false,
    "editable": false,
    "nbgrader": {
     "checksum": "7372843db121b9e2adfe582252f05ade",
     "grade": true,
     "grade_id": "test-featureVec-2",
     "locked": true,
     "points": 3,
     "schema_version": 1,
     "solution": false
    }
   },
   "outputs": [],
   "source": [
    "# CIS 545 Test Case\n"
   ]
  },
  {
   "cell_type": "code",
   "execution_count": 55,
   "metadata": {
    "deletable": false,
    "editable": false,
    "nbgrader": {
     "checksum": "0446294eb0108e97a32f7a965f5fbbef",
     "grade": false,
     "grade_id": "pad-15",
     "locked": true,
     "schema_version": 1,
     "solution": false
    }
   },
   "outputs": [
    {
     "name": "stdout",
     "output_type": "stream",
     "text": [
      "CIS 545 Test Case Padding\n"
     ]
    }
   ],
   "source": [
    "print('CIS 545 Test Case Padding')"
   ]
  },
  {
   "cell_type": "code",
   "execution_count": 56,
   "metadata": {
    "deletable": false,
    "editable": false,
    "nbgrader": {
     "checksum": "e7a8fb0ee29a1b15528867ff8a977f22",
     "grade": true,
     "grade_id": "test-featureVec-3",
     "locked": true,
     "points": 3,
     "schema_version": 1,
     "solution": false
    }
   },
   "outputs": [],
   "source": [
    "# CIS 545 Test Case\n"
   ]
  },
  {
   "cell_type": "code",
   "execution_count": 57,
   "metadata": {
    "deletable": false,
    "editable": false,
    "nbgrader": {
     "checksum": "407cb74d8b611f1db83c7cc4b3e3588c",
     "grade": false,
     "grade_id": "pad-16",
     "locked": true,
     "schema_version": 1,
     "solution": false
    }
   },
   "outputs": [
    {
     "name": "stdout",
     "output_type": "stream",
     "text": [
      "CIS 545 Test Case Padding\n"
     ]
    }
   ],
   "source": [
    "print('CIS 545 Test Case Padding')"
   ]
  },
  {
   "cell_type": "markdown",
   "metadata": {
    "deletable": false,
    "editable": false,
    "nbgrader": {
     "checksum": "9097a2de9cd17aa0dfca384618e23b66",
     "grade": false,
     "grade_id": "step3-4",
     "locked": true,
     "schema_version": 1,
     "solution": false
    }
   },
   "source": [
    "### Step 3.4 featurizeData\n",
    "\n",
    "The next function, `featurizeData` takes as input your dataset and computes the output of `createFeatureVector` on each of the instances in your dataset. Takes 2 inputs : `dataset` and `kernels`\n",
    "\n",
    "Output will be a 2-D matrix with each row representing the feature vectors computed for each of the instances in the given dataset\n",
    "\n",
    "NOTE. The output should be a numpy array\n",
    "\n"
   ]
  },
  {
   "cell_type": "code",
   "execution_count": 58,
   "metadata": {
    "deletable": false,
    "nbgrader": {
     "checksum": "bced6e611d7b7f149b3af18c98f0b6d3",
     "grade": false,
     "grade_id": "featurizeData",
     "locked": false,
     "schema_version": 1,
     "solution": true
    }
   },
   "outputs": [],
   "source": [
    "# Implement the featurizeData(dataset, kernels) function here.\n",
    "\n",
    "def featurizeData(dataset, kernels):\n",
    "    dataset_feature = []\n",
    "    for image in dataset:\n",
    "        result = createFeatureVector(image, kernels).tolist()\n",
    "        dataset_feature.append(result)\n",
    "#     print(dataset_feature)\n",
    "    return np.array(dataset_feature)\n",
    "            "
   ]
  },
  {
   "cell_type": "raw",
   "metadata": {},
   "source": [
    "featurizeData(trainx, kernels)"
   ]
  },
  {
   "cell_type": "markdown",
   "metadata": {
    "deletable": false,
    "editable": false,
    "nbgrader": {
     "checksum": "709d93c1def54895b23a747dd0415ddb",
     "grade": false,
     "grade_id": "traintest-x",
     "locked": true,
     "schema_version": 1,
     "solution": false
    }
   },
   "source": [
    "Now using the featurizeData function defined above, compute the featurized versions of your training and testing data and name them `trainx_feat` and `testx_feat`"
   ]
  },
  {
   "cell_type": "code",
   "execution_count": 59,
   "metadata": {
    "deletable": false,
    "nbgrader": {
     "checksum": "08c51177bb542b5fbe3a4d87b41dae55",
     "grade": false,
     "grade_id": "trainx-testx-feat",
     "locked": false,
     "schema_version": 1,
     "solution": true
    }
   },
   "outputs": [],
   "source": [
    "# Define trainx_feat and testx_feat here\n",
    "\n",
    "trainx_feat = featurizeData(trainx, kernels)\n",
    "testx_feat = featurizeData(testx, kernels)"
   ]
  },
  {
   "cell_type": "raw",
   "metadata": {},
   "source": [
    "print(testx_feat)"
   ]
  },
  {
   "cell_type": "code",
   "execution_count": 60,
   "metadata": {
    "deletable": false,
    "editable": false,
    "nbgrader": {
     "checksum": "55ab393440ec609803bbebd6940a1166",
     "grade": false,
     "grade_id": "test-featurizeData-1",
     "locked": true,
     "schema_version": 1,
     "solution": false
    }
   },
   "outputs": [],
   "source": [
    "# CIS 545 Test Case\n",
    "\n",
    "if (trainx_feat.shape != (300,8)):\n",
    "    raise ValueError(\"Incorrect dimensions for featurizeData\")\n",
    "    \n",
    "if (testx_feat.shape != (100,8)):\n",
    "    raise ValueError(\"Incorrect dimensions for featurizeData\")"
   ]
  },
  {
   "cell_type": "code",
   "execution_count": 61,
   "metadata": {
    "deletable": false,
    "editable": false,
    "nbgrader": {
     "checksum": "5d2924eff1b44c1d7b0add294e935db7",
     "grade": false,
     "grade_id": "pad-17",
     "locked": true,
     "schema_version": 1,
     "solution": false
    }
   },
   "outputs": [
    {
     "name": "stdout",
     "output_type": "stream",
     "text": [
      "CIS 545 Test Case Padding\n"
     ]
    }
   ],
   "source": [
    "print('CIS 545 Test Case Padding')"
   ]
  },
  {
   "cell_type": "code",
   "execution_count": 62,
   "metadata": {
    "deletable": false,
    "editable": false,
    "nbgrader": {
     "checksum": "92886ad2fed41604bfcec2bcdff3e492",
     "grade": true,
     "grade_id": "test-featurizeData-2",
     "locked": true,
     "points": 3,
     "schema_version": 1,
     "solution": false
    }
   },
   "outputs": [],
   "source": [
    "# CIS 545 Test Case\n"
   ]
  },
  {
   "cell_type": "code",
   "execution_count": 63,
   "metadata": {
    "deletable": false,
    "editable": false,
    "nbgrader": {
     "checksum": "bf71f8fae54a1ab4d3fc75d01d001ec8",
     "grade": false,
     "grade_id": "pad-18",
     "locked": true,
     "schema_version": 1,
     "solution": false
    }
   },
   "outputs": [
    {
     "name": "stdout",
     "output_type": "stream",
     "text": [
      "CIS 545 Test Case Padding\n"
     ]
    }
   ],
   "source": [
    "print('CIS 545 Test Case Padding')"
   ]
  },
  {
   "cell_type": "code",
   "execution_count": 64,
   "metadata": {
    "deletable": false,
    "editable": false,
    "nbgrader": {
     "checksum": "61a0e0cc7aa2a3510e835c5bdf865cd5",
     "grade": true,
     "grade_id": "test-featurizeData-3",
     "locked": true,
     "points": 3,
     "schema_version": 1,
     "solution": false
    }
   },
   "outputs": [],
   "source": [
    "# CIS 545 Test Case\n"
   ]
  },
  {
   "cell_type": "code",
   "execution_count": 65,
   "metadata": {
    "deletable": false,
    "editable": false,
    "nbgrader": {
     "checksum": "070434e2658c12d4e0942db7f89b9d87",
     "grade": false,
     "grade_id": "pad-19",
     "locked": true,
     "schema_version": 1,
     "solution": false
    }
   },
   "outputs": [
    {
     "name": "stdout",
     "output_type": "stream",
     "text": [
      "CIS 545 Test Case Padding\n"
     ]
    }
   ],
   "source": [
    "print('CIS 545 Test Case Padding')"
   ]
  },
  {
   "cell_type": "markdown",
   "metadata": {
    "deletable": false,
    "editable": false,
    "nbgrader": {
     "checksum": "508da847e9851078786c11500752d14d",
     "grade": false,
     "grade_id": "modeling",
     "locked": true,
     "schema_version": 1,
     "solution": false
    }
   },
   "source": [
    "## Modeling\n",
    "\n",
    "In this section, we use the features that we have created and build a Classification model. In particular, we will be using the Random Forest model, which is one of better performing ML models. \n",
    "\n",
    "For the following section, you will be using the Random Forest implementation provided by scikit-learn, `RandomForestClassifer`. You would essentially be using 2 methods to train and test the model, `fit` and `predict`. The documenation on RandomForestClassifier should provide you the necessary details for implementing the model. \n",
    "\n",
    "https://scikit-learn.org/stable/modules/generated/sklearn.ensemble.RandomForestClassifier.html"
   ]
  },
  {
   "cell_type": "markdown",
   "metadata": {
    "deletable": false,
    "editable": false,
    "nbgrader": {
     "checksum": "6c47c6d40d89db80ffaffb5911c9d7dc",
     "grade": false,
     "grade_id": "step4-1",
     "locked": true,
     "schema_version": 1,
     "solution": false
    }
   },
   "source": [
    "### Step 4.1 Using Raw Features \n",
    "\n",
    "We first train a model using the raw values of the images itself. For this, convert trainx and testx by converting the 2D images into a 1D array. More specifically, your trainx/testx datasets of shape (n,x,y) should be converted into shape (n,x*y).\n",
    "Stores these new variables as `trainx_raw` and `testx_raw`"
   ]
  },
  {
   "cell_type": "raw",
   "metadata": {},
   "source": [
    "testx.shape"
   ]
  },
  {
   "cell_type": "code",
   "execution_count": 66,
   "metadata": {
    "deletable": false,
    "nbgrader": {
     "checksum": "692efbae646a4a6d7f28353748d8ec6d",
     "grade": false,
     "grade_id": "rawfeatures",
     "locked": false,
     "schema_version": 1,
     "solution": true
    }
   },
   "outputs": [],
   "source": [
    "# Define trainx_raw and testx_raw here\n",
    "\n",
    "trainx_raw = trainx.reshape(300,50*50)\n",
    "testx_raw = testx.reshape(100,50*50)\n"
   ]
  },
  {
   "cell_type": "code",
   "execution_count": 67,
   "metadata": {
    "deletable": false,
    "editable": false,
    "nbgrader": {
     "checksum": "caba083620ac66870435b76b93ac7bc7",
     "grade": false,
     "grade_id": "test-rawfeatures",
     "locked": true,
     "schema_version": 1,
     "solution": false
    }
   },
   "outputs": [],
   "source": [
    "# CIS 545 Test Case\n",
    "\n",
    "if (trainx_raw.shape[0] != 300):\n",
    "    raise ValueError(\"Incorrect dimensions\")\n",
    "    \n",
    "if (testx_raw.shape[0] != 100):\n",
    "    raise ValueError(\"Incorrect dimensions\")"
   ]
  },
  {
   "cell_type": "code",
   "execution_count": 68,
   "metadata": {
    "deletable": false,
    "editable": false,
    "nbgrader": {
     "checksum": "643821ad263f15862533679d42039d13",
     "grade": false,
     "grade_id": "pad-20",
     "locked": true,
     "schema_version": 1,
     "solution": false
    }
   },
   "outputs": [
    {
     "name": "stdout",
     "output_type": "stream",
     "text": [
      "CIS 545 Test Case Padding\n"
     ]
    }
   ],
   "source": [
    "print('CIS 545 Test Case Padding')"
   ]
  },
  {
   "cell_type": "markdown",
   "metadata": {
    "deletable": false,
    "editable": false,
    "nbgrader": {
     "checksum": "3f4d3e1a2c057280987647ee722a2692",
     "grade": false,
     "grade_id": "note-rfmodel",
     "locked": true,
     "schema_version": 1,
     "solution": false
    }
   },
   "source": [
    "Now fit a random forest model to `trainx_raw`. While defining the RandomForestClassifer, set the `n_estimators` parameter to 100. Name the random forest model `rfModel_raw`."
   ]
  },
  {
   "cell_type": "code",
   "execution_count": 69,
   "metadata": {
    "deletable": false,
    "nbgrader": {
     "checksum": "b02132dbb926dcfecff6248437dccc1f",
     "grade": false,
     "grade_id": "rfmodel",
     "locked": false,
     "schema_version": 1,
     "solution": true
    }
   },
   "outputs": [],
   "source": [
    "# Define and train rfModel_raw\n",
    "from sklearn.ensemble import RandomForestClassifier\n",
    "\n",
    "rf = RandomForestClassifier(n_estimators=100)\n",
    "rfModel_raw = rf.fit(trainx_raw, trainy)"
   ]
  },
  {
   "cell_type": "code",
   "execution_count": 70,
   "metadata": {},
   "outputs": [
    {
     "name": "stdout",
     "output_type": "stream",
     "text": [
      "RandomForestClassifier(bootstrap=True, class_weight=None, criterion='gini',\n",
      "            max_depth=None, max_features='auto', max_leaf_nodes=None,\n",
      "            min_impurity_decrease=0.0, min_impurity_split=None,\n",
      "            min_samples_leaf=1, min_samples_split=2,\n",
      "            min_weight_fraction_leaf=0.0, n_estimators=100, n_jobs=None,\n",
      "            oob_score=False, random_state=None, verbose=0,\n",
      "            warm_start=False)\n"
     ]
    }
   ],
   "source": [
    "print(rfModel_raw)"
   ]
  },
  {
   "cell_type": "markdown",
   "metadata": {
    "deletable": false,
    "editable": false,
    "nbgrader": {
     "checksum": "bbd16acbc6599d0cb4a43ee6ad481f08",
     "grade": false,
     "grade_id": "note-accuracy_raw",
     "locked": true,
     "schema_version": 1,
     "solution": false
    }
   },
   "source": [
    "Now predict for the test dataset `testx_raw` and calculate the accuracy for the prediction. Store the calculated accuracy in `accuracy_raw`"
   ]
  },
  {
   "cell_type": "code",
   "execution_count": 71,
   "metadata": {
    "deletable": false,
    "nbgrader": {
     "checksum": "76826804be594f47f1256ce5c79e2a69",
     "grade": false,
     "grade_id": "accuracy_raw",
     "locked": false,
     "schema_version": 1,
     "solution": true
    }
   },
   "outputs": [],
   "source": [
    "result_raw = rf.predict(testx_raw)"
   ]
  },
  {
   "cell_type": "raw",
   "metadata": {},
   "source": [
    "result_raw"
   ]
  },
  {
   "cell_type": "raw",
   "metadata": {},
   "source": [
    "accuracy_raw=0\n",
    "for i in range(0, len(result_raw)):\n",
    "    if result_raw[i]==testy[i]:\n",
    "        accuracy_raw +=1"
   ]
  },
  {
   "cell_type": "code",
   "execution_count": 72,
   "metadata": {},
   "outputs": [],
   "source": [
    "accuracy_raw=accuracy_score(testy, result_raw)"
   ]
  },
  {
   "cell_type": "code",
   "execution_count": 73,
   "metadata": {
    "deletable": false,
    "editable": false,
    "nbgrader": {
     "checksum": "cd904461f168b942f00374c1be5c1bbc",
     "grade": false,
     "grade_id": "view-accuracy_raw",
     "locked": true,
     "schema_version": 1,
     "solution": false
    }
   },
   "outputs": [
    {
     "data": {
      "text/plain": [
       "0.84"
      ]
     },
     "execution_count": 73,
     "metadata": {},
     "output_type": "execute_result"
    }
   ],
   "source": [
    "# View accuracy_raw \n",
    "accuracy_raw"
   ]
  },
  {
   "cell_type": "code",
   "execution_count": 74,
   "metadata": {
    "deletable": false,
    "editable": false,
    "nbgrader": {
     "checksum": "d2cfa19df9919ae917f7691f7442f2d4",
     "grade": true,
     "grade_id": "test-accraw",
     "locked": true,
     "points": 2,
     "schema_version": 1,
     "solution": false
    }
   },
   "outputs": [],
   "source": [
    "# CIS 545 Test Case\n"
   ]
  },
  {
   "cell_type": "code",
   "execution_count": 75,
   "metadata": {
    "deletable": false,
    "editable": false,
    "nbgrader": {
     "checksum": "0504f474b1e751d2b82c88bd89319e10",
     "grade": false,
     "grade_id": "pad-21",
     "locked": true,
     "schema_version": 1,
     "solution": false
    }
   },
   "outputs": [
    {
     "name": "stdout",
     "output_type": "stream",
     "text": [
      "CIS 545 Test Case Padding\n"
     ]
    }
   ],
   "source": [
    "print('CIS 545 Test Case Padding')"
   ]
  },
  {
   "cell_type": "markdown",
   "metadata": {
    "deletable": false,
    "editable": false,
    "nbgrader": {
     "checksum": "913ddb0251dba2137de1cf986b800e79",
     "grade": false,
     "grade_id": "step4-2",
     "locked": true,
     "schema_version": 1,
     "solution": false
    }
   },
   "source": [
    "### 4.2 Using Convolution features\n",
    "\n",
    "Now instead of using the raw pixel values, we use the convolution features. Create a new Random forest model called `rfModel_conv` which takes as input `trainx_feat`. \n",
    "\n",
    "Set n_estimators to 100 for the RandomForest model."
   ]
  },
  {
   "cell_type": "code",
   "execution_count": 76,
   "metadata": {
    "deletable": false,
    "nbgrader": {
     "checksum": "33359427cc12d927af7f6025611636b2",
     "grade": false,
     "grade_id": "rfmodel_conv",
     "locked": false,
     "schema_version": 1,
     "solution": true
    }
   },
   "outputs": [],
   "source": [
    "# Define rfModel_conv here\n",
    "####为什么convolution可以大大提高准确性呢？\n",
    "####卷积可以让核心部分突出，边缘部分模糊？\n",
    "rf = RandomForestClassifier(n_estimators=100)\n",
    "rfModel_conv = rf.fit(trainx_feat, trainy)"
   ]
  },
  {
   "cell_type": "markdown",
   "metadata": {
    "deletable": false,
    "editable": false,
    "nbgrader": {
     "checksum": "2396dc03e995b1a6aee8ce69fccca0f5",
     "grade": false,
     "grade_id": "note-accuracy_conv",
     "locked": true,
     "schema_version": 1,
     "solution": false
    }
   },
   "source": [
    "Predict for the `testx` dataset and store the accuracy value in `accuracy_conv`"
   ]
  },
  {
   "cell_type": "code",
   "execution_count": 77,
   "metadata": {
    "deletable": false,
    "nbgrader": {
     "checksum": "6ade4ed423132df2d674ca7350c6dc28",
     "grade": false,
     "grade_id": "accuracy_conv",
     "locked": false,
     "schema_version": 1,
     "solution": true
    }
   },
   "outputs": [],
   "source": [
    "# Define accuracy_conv here\n",
    "result_feat = rf.predict(testx_feat)"
   ]
  },
  {
   "cell_type": "code",
   "execution_count": 78,
   "metadata": {},
   "outputs": [],
   "source": [
    "accuracy_conv=accuracy_score(testy, result_feat)"
   ]
  },
  {
   "cell_type": "code",
   "execution_count": 79,
   "metadata": {
    "deletable": false,
    "editable": false,
    "nbgrader": {
     "checksum": "aa0e49a0d87ae20f2db1077eaa459a2d",
     "grade": false,
     "grade_id": "view-accuracy_conv",
     "locked": true,
     "schema_version": 1,
     "solution": false
    }
   },
   "outputs": [
    {
     "data": {
      "text/plain": [
       "0.96"
      ]
     },
     "execution_count": 79,
     "metadata": {},
     "output_type": "execute_result"
    }
   ],
   "source": [
    "# View accuracy_conv\n",
    "accuracy_conv"
   ]
  },
  {
   "cell_type": "code",
   "execution_count": 80,
   "metadata": {
    "deletable": false,
    "editable": false,
    "nbgrader": {
     "checksum": "cf13c878c54637d871745e384c988e0c",
     "grade": true,
     "grade_id": "test-accuracy_conv",
     "locked": true,
     "points": 3,
     "schema_version": 1,
     "solution": false
    }
   },
   "outputs": [],
   "source": [
    "# CIS 545 Test Case\n"
   ]
  },
  {
   "cell_type": "code",
   "execution_count": 81,
   "metadata": {
    "deletable": false,
    "editable": false,
    "nbgrader": {
     "checksum": "d804f7444c72a242b0c3ab2e6bdc25e6",
     "grade": false,
     "grade_id": "pad-22",
     "locked": true,
     "schema_version": 1,
     "solution": false
    }
   },
   "outputs": [
    {
     "name": "stdout",
     "output_type": "stream",
     "text": [
      "CIS 545 Test Case Padding\n"
     ]
    }
   ],
   "source": [
    "print('CIS 545 Test Case Padding')"
   ]
  },
  {
   "cell_type": "code",
   "execution_count": 82,
   "metadata": {
    "deletable": false,
    "editable": false,
    "nbgrader": {
     "checksum": "3b8e52cb54f79171248237c54913ad85",
     "grade": true,
     "grade_id": "test-rfmodel-conv",
     "locked": true,
     "points": 2,
     "schema_version": 1,
     "solution": false
    }
   },
   "outputs": [],
   "source": [
    "# CIS 545 Test Case\n"
   ]
  },
  {
   "cell_type": "code",
   "execution_count": 83,
   "metadata": {
    "deletable": false,
    "editable": false,
    "nbgrader": {
     "checksum": "56f33bc3a4bceb55329c9807959a30cf",
     "grade": false,
     "grade_id": "pad-23",
     "locked": true,
     "schema_version": 1,
     "solution": false
    }
   },
   "outputs": [
    {
     "name": "stdout",
     "output_type": "stream",
     "text": [
      "CIS 545 Test Case Padding\n"
     ]
    }
   ],
   "source": [
    "print('CIS 545 Test Case Padding')"
   ]
  },
  {
   "cell_type": "markdown",
   "metadata": {
    "deletable": false,
    "editable": false,
    "nbgrader": {
     "checksum": "c4a2e6d1cc7c4e50c52065ad4c1f5b61",
     "grade": false,
     "grade_id": "variations",
     "locked": true,
     "schema_version": 1,
     "solution": false
    }
   },
   "source": [
    "## Variations\n",
    "\n",
    "We now explore some variations to the data creation process and observe how it affects the model performance.\n"
   ]
  },
  {
   "cell_type": "markdown",
   "metadata": {
    "deletable": false,
    "editable": false,
    "nbgrader": {
     "checksum": "d61d4df643e525cf67cd3afd3d2c7f16",
     "grade": false,
     "grade_id": "step5-1",
     "locked": true,
     "schema_version": 1,
     "solution": false
    }
   },
   "source": [
    "### Step 5.1 Thresholding\n",
    "\n",
    "The Visualization in Step 3.2 gives us a good idea about the effect of convolving kernels on images. However, there are ways we can make these effects more stronger.\n",
    "\n",
    "Write a function called `thresholdImg` that takes as input an image and does the following :\n",
    " * All values less than 0 are set to -1\n",
    " * All values greater than 0 are set to +1\n",
    " * All values equal to 0 are not changed"
   ]
  },
  {
   "cell_type": "code",
   "execution_count": 84,
   "metadata": {
    "deletable": false,
    "nbgrader": {
     "checksum": "cf090f99f8a2b09634c8149a617f279f",
     "grade": false,
     "grade_id": "thresholdImg",
     "locked": false,
     "schema_version": 1,
     "solution": true
    }
   },
   "outputs": [],
   "source": [
    "# Define thresholdImg(img) here\n",
    "\n",
    "def thresholdImg(img):\n",
    "    img_ = np.array(img.copy())\n",
    "#     print(img_)\n",
    "    img_ [img_<0]= -1.0\n",
    "    img_ [img_>0]= 1.0\n",
    "    return img_\n",
    "#     print(img)"
   ]
  },
  {
   "cell_type": "markdown",
   "metadata": {
    "deletable": false,
    "editable": false,
    "nbgrader": {
     "checksum": "d604e9cabd4467ae864766135b9c161b",
     "grade": false,
     "grade_id": "note-threshOutput",
     "locked": true,
     "schema_version": 1,
     "solution": false
    }
   },
   "source": [
    "Take the 5th image in `trainx`, convolve it with the 4th element in `kernels`, threshold the output of the convolution using ` thresholdImg` and store the output in `threshOutput`. Also plot `threshOutput`"
   ]
  },
  {
   "cell_type": "code",
   "execution_count": 85,
   "metadata": {
    "deletable": false,
    "nbgrader": {
     "checksum": "16708d9218ec13bcda46a866b14f728e",
     "grade": false,
     "grade_id": "threshOutput",
     "locked": false,
     "schema_version": 1,
     "solution": true
    }
   },
   "outputs": [],
   "source": [
    "# Create threshOutput from the various image operations\n",
    "output = convolveImage(trainx[4],kernels[3])\n",
    "threshOutput = thresholdImg(output)\n",
    "# print(threshOutput)"
   ]
  },
  {
   "cell_type": "code",
   "execution_count": 86,
   "metadata": {},
   "outputs": [
    {
     "data": {
      "text/plain": [
       "<matplotlib.image.AxesImage at 0x7fe179dbdcc0>"
      ]
     },
     "execution_count": 86,
     "metadata": {},
     "output_type": "execute_result"
    },
    {
     "data": {
      "image/png": "[encoded data removed]",
      "text/plain": [
       "<Figure size 432x288 with 1 Axes>"
      ]
     },
     "metadata": {
      "needs_background": "light"
     },
     "output_type": "display_data"
    }
   ],
   "source": [
    "plt.imshow(trainx[4],cmap = 'gray')"
   ]
  },
  {
   "cell_type": "code",
   "execution_count": 87,
   "metadata": {},
   "outputs": [
    {
     "data": {
      "text/plain": [
       "<matplotlib.image.AxesImage at 0x7fe179d132b0>"
      ]
     },
     "execution_count": 87,
     "metadata": {},
     "output_type": "execute_result"
    },
    {
     "data": {
      "image/png": "[encoded data removed]",
      "text/plain": [
       "<Figure size 432x288 with 1 Axes>"
      ]
     },
     "metadata": {
      "needs_background": "light"
     },
     "output_type": "display_data"
    }
   ],
   "source": [
    "plt.imshow(output, cmap = 'gray')"
   ]
  },
  {
   "cell_type": "code",
   "execution_count": 88,
   "metadata": {
    "deletable": false,
    "editable": false,
    "nbgrader": {
     "checksum": "4638fac97b78ebfed39dcdeed3a20253",
     "grade": false,
     "grade_id": "show-threshOutput",
     "locked": true,
     "schema_version": 1,
     "solution": false
    },
    "scrolled": true
   },
   "outputs": [
    {
     "data": {
      "text/plain": [
       "<matplotlib.image.AxesImage at 0x7fe179ddf9e8>"
      ]
     },
     "execution_count": 88,
     "metadata": {},
     "output_type": "execute_result"
    },
    {
     "data": {
      "image/png": "[encoded data removed]",
      "text/plain": [
       "<Figure size 432x288 with 1 Axes>"
      ]
     },
     "metadata": {
      "needs_background": "light"
     },
     "output_type": "display_data"
    }
   ],
   "source": [
    "# View the plot\n",
    "plt.imshow(threshOutput, cmap = 'gray')"
   ]
  },
  {
   "cell_type": "code",
   "execution_count": 89,
   "metadata": {
    "deletable": false,
    "editable": false,
    "nbgrader": {
     "checksum": "1e97aa5c51d8a25fd366edc622f6e1ad",
     "grade": false,
     "grade_id": "test-threshOutput",
     "locked": true,
     "schema_version": 1,
     "solution": false
    }
   },
   "outputs": [],
   "source": [
    "# CIS 545 Test Case\n",
    "\n",
    "if (np.sum(threshOutput) != -703.0):\n",
    "    raise ValueError(\"Incorrect sum for threshOutput\")"
   ]
  },
  {
   "cell_type": "code",
   "execution_count": 90,
   "metadata": {
    "deletable": false,
    "editable": false,
    "nbgrader": {
     "checksum": "986793448677a326321994c4d2e89829",
     "grade": false,
     "grade_id": "pad-24",
     "locked": true,
     "schema_version": 1,
     "solution": false
    }
   },
   "outputs": [
    {
     "name": "stdout",
     "output_type": "stream",
     "text": [
      "CIS 545 Test Case Padding\n"
     ]
    }
   ],
   "source": [
    "print('CIS 545 Test Case Padding')"
   ]
  },
  {
   "cell_type": "markdown",
   "metadata": {
    "deletable": false,
    "editable": false,
    "nbgrader": {
     "checksum": "4c200c0d688585fdc89a97b7174b9bda",
     "grade": false,
     "grade_id": "featurevec_thresh",
     "locked": true,
     "schema_version": 1,
     "solution": false
    }
   },
   "source": [
    "Now that you have seen the effet of thresholding the output of the convolutions, we apply this to all the images in the trainx and testx arrays while we create the featureVectors. In the next cells define the functions `createFeatureVec_thresh` and `featurizeData_thresh`.\n",
    "\n",
    "These functions essentiatlly are the same as before. The only difference being that `createFeatureVec_thresh` applies the `thresholdImg` function to the output of the convolution before taking the sum. `featurizeData_thresh` does the same function as before with the only difference being that it uses `createFeatureVec_thresh` instead of `createFeatureVec`.\n",
    "\n"
   ]
  },
  {
   "cell_type": "code",
   "execution_count": 91,
   "metadata": {
    "deletable": false,
    "nbgrader": {
     "checksum": "34f593efdc06ffb1771d8df5f069c4d1",
     "grade": false,
     "grade_id": "cfvector-thresh",
     "locked": false,
     "schema_version": 1,
     "solution": true
    }
   },
   "outputs": [],
   "source": [
    "# Define createFeatureVec_thresh here\n",
    "\n",
    "def createFeatureVector_thresh(img, kernels):\n",
    "    featurevector_thresh = []\n",
    "    for kernel in kernels:\n",
    "        output = convolveImage(img,kernel)\n",
    "        threshOutput = thresholdImg(output)\n",
    "        featurevector_thresh.append(sum(sum(i) for i in threshOutput))\n",
    "    return np.array(featurevector_thresh)\n",
    "              "
   ]
  },
  {
   "cell_type": "code",
   "execution_count": 92,
   "metadata": {
    "deletable": false,
    "nbgrader": {
     "checksum": "f02bac66fda636e48c2e8ccf508d932d",
     "grade": false,
     "grade_id": "featurize-thresh",
     "locked": false,
     "schema_version": 1,
     "solution": true
    }
   },
   "outputs": [],
   "source": [
    "# Define featurizeData_thresh here\n",
    "\n",
    "def featurizeData_thresh(dataset, kernels):\n",
    "    dataset_feature_thresh = []\n",
    "    for image in dataset:\n",
    "        result = createFeatureVector_thresh(image, kernels).tolist()\n",
    "        dataset_feature_thresh.append(result)\n",
    "#     print(dataset_feature)\n",
    "    return np.array(dataset_feature_thresh)"
   ]
  },
  {
   "cell_type": "markdown",
   "metadata": {
    "deletable": false,
    "editable": false,
    "nbgrader": {
     "checksum": "55240030042f62d539cccb66bd861f42",
     "grade": false,
     "grade_id": "note-testx_feat_trainx",
     "locked": true,
     "schema_version": 1,
     "solution": false
    }
   },
   "source": [
    "Using these functions, create `trainx_feat_thresh` and `testx_feat_thresh` from the trainx and testx datasets."
   ]
  },
  {
   "cell_type": "code",
   "execution_count": 93,
   "metadata": {
    "deletable": false,
    "nbgrader": {
     "checksum": "c1743f19c7af7a173860fb4a6fee47ab",
     "grade": false,
     "grade_id": "testx_feat_trainx",
     "locked": false,
     "schema_version": 1,
     "solution": true
    }
   },
   "outputs": [],
   "source": [
    "# Define trainx_feat_thresh and testx_feat_thresh here\n",
    "\n",
    "trainx_feat_thresh = featurizeData_thresh(trainx, kernels)\n",
    "testx_feat_thresh = featurizeData_thresh(testx, kernels)\n"
   ]
  },
  {
   "cell_type": "raw",
   "metadata": {},
   "source": [
    "print(testx_feat_thresh)"
   ]
  },
  {
   "cell_type": "code",
   "execution_count": 94,
   "metadata": {
    "deletable": false,
    "editable": false,
    "nbgrader": {
     "checksum": "56faf772a4a11013ea5c61831a9e11a0",
     "grade": true,
     "grade_id": "test-feat-thresh-1",
     "locked": true,
     "points": 2,
     "schema_version": 1,
     "solution": false
    }
   },
   "outputs": [],
   "source": [
    "# CIS 545 Test Case\n"
   ]
  },
  {
   "cell_type": "code",
   "execution_count": 95,
   "metadata": {
    "deletable": false,
    "editable": false,
    "nbgrader": {
     "checksum": "521568e57580822997474fc2d2f86505",
     "grade": false,
     "grade_id": "pad-25",
     "locked": true,
     "schema_version": 1,
     "solution": false
    }
   },
   "outputs": [
    {
     "name": "stdout",
     "output_type": "stream",
     "text": [
      "CIS 545 Test Case Padding\n"
     ]
    }
   ],
   "source": [
    "print('CIS 545 Test Case Padding')"
   ]
  },
  {
   "cell_type": "code",
   "execution_count": 96,
   "metadata": {
    "deletable": false,
    "editable": false,
    "nbgrader": {
     "checksum": "fcde6e939736b61d794a3dc421d34da0",
     "grade": true,
     "grade_id": "test-feat-thresh-2",
     "locked": true,
     "points": 2,
     "schema_version": 1,
     "solution": false
    }
   },
   "outputs": [],
   "source": [
    "# CIS 545 Test Case\n"
   ]
  },
  {
   "cell_type": "code",
   "execution_count": 97,
   "metadata": {
    "deletable": false,
    "editable": false,
    "nbgrader": {
     "checksum": "cd42c8ca3b91debfd7a817418c27265b",
     "grade": false,
     "grade_id": "pad-26",
     "locked": true,
     "schema_version": 1,
     "solution": false
    }
   },
   "outputs": [
    {
     "name": "stdout",
     "output_type": "stream",
     "text": [
      "CIS 545 Test Case Padding\n"
     ]
    }
   ],
   "source": [
    "print('CIS 545 Test Case Padding')"
   ]
  },
  {
   "cell_type": "markdown",
   "metadata": {
    "deletable": false,
    "editable": false,
    "nbgrader": {
     "checksum": "d728c71d15459c74f8a5c40f106117a4",
     "grade": false,
     "grade_id": "note-accuracy_thresh",
     "locked": true,
     "schema_version": 1,
     "solution": false
    }
   },
   "source": [
    "Now using the above features, train a new Random Forest model called `rfModel_thresh` that takes as input `trainx_feat_thresh`. Predict on the test dataset and store the accuracy value in `accuracy_thresh`."
   ]
  },
  {
   "cell_type": "code",
   "execution_count": 98,
   "metadata": {
    "deletable": false,
    "nbgrader": {
     "checksum": "a8c843cc01df44930f8783d0cb4065a8",
     "grade": false,
     "grade_id": "accuracy_thresh",
     "locked": false,
     "schema_version": 1,
     "solution": true
    }
   },
   "outputs": [],
   "source": [
    "# Define rfModel_thresh here. \n",
    "# Train the model, predict on testx_feat_thresh and \n",
    "# store the accuracy in accuracy_thresh\n",
    "\n",
    "rf = RandomForestClassifier(n_estimators=100)\n",
    "rfModel_thresh = rf.fit(trainx_feat_thresh, trainy)\n",
    "result_feat_thresh = rf.predict(testx_feat_thresh)"
   ]
  },
  {
   "cell_type": "code",
   "execution_count": 99,
   "metadata": {},
   "outputs": [],
   "source": [
    "accuracy_thresh=accuracy_score(testy, result_feat_thresh)"
   ]
  },
  {
   "cell_type": "code",
   "execution_count": 100,
   "metadata": {
    "deletable": false,
    "editable": false,
    "nbgrader": {
     "checksum": "e3ea4a11b841647af0f482284fc38cec",
     "grade": false,
     "grade_id": "show-accuracy_thresh",
     "locked": true,
     "schema_version": 1,
     "solution": false
    }
   },
   "outputs": [
    {
     "data": {
      "text/plain": [
       "1.0"
      ]
     },
     "execution_count": 100,
     "metadata": {},
     "output_type": "execute_result"
    }
   ],
   "source": [
    "# View accuracy_thresh here\n",
    "accuracy_thresh"
   ]
  },
  {
   "cell_type": "code",
   "execution_count": 101,
   "metadata": {
    "deletable": false,
    "editable": false,
    "nbgrader": {
     "checksum": "3c92b2a185abe3fd560825afde6ff22e",
     "grade": true,
     "grade_id": "test-accuracy_thresh",
     "locked": true,
     "points": 3,
     "schema_version": 1,
     "solution": false
    }
   },
   "outputs": [],
   "source": [
    "# CIS 545 Test Case\n"
   ]
  },
  {
   "cell_type": "code",
   "execution_count": 102,
   "metadata": {
    "deletable": false,
    "editable": false,
    "nbgrader": {
     "checksum": "d8ce0ad7d782ec4160f8b58c580908c2",
     "grade": false,
     "grade_id": "pad-27",
     "locked": true,
     "schema_version": 1,
     "solution": false
    }
   },
   "outputs": [
    {
     "name": "stdout",
     "output_type": "stream",
     "text": [
      "CIS 545 Test Case Padding\n"
     ]
    }
   ],
   "source": [
    "print('CIS 545 Test Case Padding')"
   ]
  },
  {
   "cell_type": "markdown",
   "metadata": {
    "deletable": false,
    "editable": false,
    "nbgrader": {
     "checksum": "205ab836fd3b37c9758335a6e4cdd217",
     "grade": false,
     "grade_id": "step5-2",
     "locked": true,
     "schema_version": 1,
     "solution": false
    }
   },
   "source": [
    "### Step 5.2 Additional Summarization\n",
    "\n",
    "In createFeatureVector, after applying the convolution, we simply summarize the output by taking the sum of the output.\n",
    "\n",
    "The sum alone is not a very good summarization ( Think about and try to understand why it might be the case). Therefore in addition to the sum, we add 3 more summarization values : min, max and standard deviation. \n",
    "\n",
    "In this segment, the only difference you will have to make to the entire pipeline is that within createFeatureVector, instead of storing just the sum for each kernel, store the sum, min value, max value and standard deviation.\n",
    "\n",
    "min, max , standard deviation can be implemented using the `np.min`, `np.max` and `np.std`.\n",
    "\n",
    "Make this modification to the modeling pipeline and create a new random forest model called `rfModel2`. Use this new model to make predictions on the corresponding test dataset and store the accuracy of the prediction in `accuracy2`.\n",
    "\n",
    "*NOTE. You are free to define your own functions. But DO NOT OVERWRITE EXISTING VARIABLES OR FUNCTIONS*"
   ]
  },
  {
   "cell_type": "code",
   "execution_count": 103,
   "metadata": {
    "deletable": false,
    "nbgrader": {
     "checksum": "f8d32bd2283cf2cd0a1e215c75c3f00e",
     "grade": false,
     "grade_id": "rfmodel2",
     "locked": false,
     "schema_version": 1,
     "solution": true
    }
   },
   "outputs": [],
   "source": [
    "# Define all your working methods and variables here. \n",
    "# We are only be evaluation only based on 2 variables :\n",
    "# rfModel2 and accuracy2\n",
    "# DO NOT overwrite existing functions!\n",
    "\n",
    "def createFeatureVector_4d(img, kernels):\n",
    "    img_feature_4d =[]\n",
    "    for kernel in kernels:\n",
    "        #print(kernel)\n",
    "        result = convolveImage(img, kernel)\n",
    "        result_sum = np.sum(result)\n",
    "        result_min = np.min(result)\n",
    "        result_max = np.max(result)\n",
    "        result_std = np.std(result)\n",
    "        img_feature_4d.append(result_sum)\n",
    "        img_feature_4d.append(result_min)\n",
    "        img_feature_4d.append(result_max)\n",
    "        img_feature_4d.append(result_std)\n",
    "#         print(result_sum)\n",
    "    return np.array(img_feature_4d)"
   ]
  },
  {
   "cell_type": "code",
   "execution_count": 104,
   "metadata": {},
   "outputs": [],
   "source": [
    "def featurizeData_4d(dataset, kernels):\n",
    "    dataset_feature = []\n",
    "    for image in dataset:\n",
    "        result = createFeatureVector_4d(image, kernels).tolist()\n",
    "        dataset_feature.append(result)\n",
    "#     print(dataset_feature)\n",
    "    return np.array(dataset_feature)"
   ]
  },
  {
   "cell_type": "code",
   "execution_count": 105,
   "metadata": {},
   "outputs": [],
   "source": [
    "trainx_feat_4d = featurizeData_4d(trainx, kernels)\n",
    "testx_feat_4d = featurizeData_4d(testx, kernels)"
   ]
  },
  {
   "cell_type": "raw",
   "metadata": {},
   "source": [
    "print(testx_feat_4d)"
   ]
  },
  {
   "cell_type": "code",
   "execution_count": 106,
   "metadata": {},
   "outputs": [],
   "source": [
    "####这个地方要不要写成rfModel2.predict？\n",
    "rf = RandomForestClassifier(n_estimators=100)\n",
    "rfModel2 = rf.fit(trainx_feat_4d, trainy)\n",
    "result_feat_4d = rf.predict(testx_feat_4d)"
   ]
  },
  {
   "cell_type": "code",
   "execution_count": 107,
   "metadata": {},
   "outputs": [],
   "source": [
    "accuracy_2=accuracy_score(testy, result_feat_4d)"
   ]
  },
  {
   "cell_type": "code",
   "execution_count": 108,
   "metadata": {
    "deletable": false,
    "editable": false,
    "nbgrader": {
     "checksum": "96d9139b22e4467faeee95ee37d2fe0c",
     "grade": true,
     "grade_id": "test-rfmodel2",
     "locked": true,
     "points": 3,
     "schema_version": 1,
     "solution": false
    }
   },
   "outputs": [],
   "source": [
    "# CIS 545 Test Case\n"
   ]
  },
  {
   "cell_type": "code",
   "execution_count": 109,
   "metadata": {
    "deletable": false,
    "editable": false,
    "nbgrader": {
     "checksum": "d33e5d4e92a2ca52536e1ea2a29a214b",
     "grade": false,
     "grade_id": "pad-28",
     "locked": true,
     "schema_version": 1,
     "solution": false
    }
   },
   "outputs": [
    {
     "name": "stdout",
     "output_type": "stream",
     "text": [
      "CIS 545 Test Case Padding\n"
     ]
    }
   ],
   "source": [
    "print('CIS 545 Test Case Padding')"
   ]
  },
  {
   "cell_type": "code",
   "execution_count": 110,
   "metadata": {
    "deletable": false,
    "editable": false,
    "nbgrader": {
     "checksum": "0b8a333273b603780ce0f33c8cdad276",
     "grade": false,
     "grade_id": "accuracy2",
     "locked": true,
     "schema_version": 1,
     "solution": false
    }
   },
   "outputs": [
    {
     "data": {
      "text/plain": [
       "1.0"
      ]
     },
     "execution_count": 110,
     "metadata": {},
     "output_type": "execute_result"
    }
   ],
   "source": [
    "# View accuracy_2\n",
    "accuracy_2"
   ]
  },
  {
   "cell_type": "code",
   "execution_count": 111,
   "metadata": {
    "deletable": false,
    "editable": false,
    "nbgrader": {
     "checksum": "7baf511ed3ea93f986df2096b4110c19",
     "grade": true,
     "grade_id": "test-accuracy2",
     "locked": true,
     "points": 5,
     "schema_version": 1,
     "solution": false
    }
   },
   "outputs": [],
   "source": [
    "# CIS 545 Test Case\n"
   ]
  },
  {
   "cell_type": "code",
   "execution_count": 112,
   "metadata": {
    "deletable": false,
    "editable": false,
    "nbgrader": {
     "checksum": "f5d8c70dfd998c50e3279a3985a9adf8",
     "grade": false,
     "grade_id": "pad-29",
     "locked": true,
     "schema_version": 1,
     "solution": false
    }
   },
   "outputs": [
    {
     "name": "stdout",
     "output_type": "stream",
     "text": [
      "CIS 545 Test Case Padding\n"
     ]
    }
   ],
   "source": [
    "print('CIS 545 Test Case Padding')"
   ]
  },
  {
   "cell_type": "markdown",
   "metadata": {
    "deletable": false,
    "editable": false,
    "nbgrader": {
     "checksum": "98c2b4b73fd4c21477e6dc040c5b2eaa",
     "grade": false,
     "grade_id": "finished-hw4",
     "locked": true,
     "schema_version": 1,
     "solution": false
    }
   },
   "source": [
    "### Congrats! Homework 4 Images completed!\n",
    "\n",
    "What you have essentially observed (and partially implemented) is how a Convolutional Neural Network works. CNNs are one of the most popular and best performing models out there, especially for Computer Vision tasks. The different modules in this assignment should give you a good intuition as to what a CNN tries to achieve and why it tends to perform better than vanilla Machine Learning models. \n",
    "\n",
    "The advantage of CNNs is its ability to learn meaningful features (`kernels`) that helps it recognise the differences between shapes/objects etc. Thats why just 8 kernels were able to give much better performance than 2500 raw pixel value features.\n",
    "\n",
    "For a better understanding of CNNs, look at : http://setosa.io/ev/image-kernels/\n",
    "\n",
    "Now, if you haven't already, move on to the KMeans notebook!"
   ]
  },
  {
   "cell_type": "code",
   "execution_count": null,
   "metadata": {},
   "outputs": [],
   "source": []
  }
 ],
 "metadata": {
  "kernelspec": {
   "display_name": "Python 3",
   "language": "python",
   "name": "python3"
  },
  "language_info": {
   "codemirror_mode": {
    "name": "ipython",
    "version": 3
   },
   "file_extension": ".py",
   "mimetype": "text/x-python",
   "name": "python",
   "nbconvert_exporter": "python",
   "pygments_lexer": "ipython3",
   "version": "3.6.7"
  }
 },
 "nbformat": 4,
 "nbformat_minor": 2
}
